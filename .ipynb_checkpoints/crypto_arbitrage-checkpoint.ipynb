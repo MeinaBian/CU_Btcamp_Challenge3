{
 "cells": [
  {
   "cell_type": "markdown",
   "metadata": {},
   "source": [
    "## Crypto Arbitrage\n",
    "\n",
    "In this Challenge, you'll take on the role of an analyst at a high-tech investment firm. The vice president (VP) of your department is considering arbitrage opportunities in Bitcoin and other cryptocurrencies. As Bitcoin trades on markets across the globe, can you capitalize on simultaneous price dislocations in those markets by using the powers of Pandas?\n",
    "\n",
    "For this assignment, you’ll sort through historical trade data for Bitcoin on two exchanges: Bitstamp and Coinbase. Your task is to apply the three phases of financial analysis to determine if any arbitrage opportunities exist for Bitcoin.\n",
    "\n",
    "This aspect of the Challenge will consist of 3 phases.\n",
    "\n",
    "1. Collect the data.\n",
    "\n",
    "2. Prepare the data.\n",
    "\n",
    "3. Analyze the data. \n",
    "\n"
   ]
  },
  {
   "cell_type": "markdown",
   "metadata": {},
   "source": [
    "###  Import the required libraries and dependencies."
   ]
  },
  {
   "cell_type": "code",
   "execution_count": 33,
   "metadata": {},
   "outputs": [],
   "source": [
    "import pandas as pd\n",
    "from pathlib import Path\n",
    "import matplotlib.pyplot as plt\n",
    "%matplotlib inline"
   ]
  },
  {
   "cell_type": "markdown",
   "metadata": {},
   "source": [
    "## Collect the Data\n",
    "\n",
    "To collect the data that you’ll need, complete the following steps:\n",
    "\n",
    "Instructions. \n",
    "\n",
    "1. Using the Pandas `read_csv` function and the `Path` module, import the data from `bitstamp.csv` file, and create a DataFrame called `bitstamp`. Set the DatetimeIndex as the Timestamp column, and be sure to parse and format the dates.\n",
    "\n",
    "2. Use the `head` (and/or the `tail`) function to confirm that Pandas properly imported the data.\n",
    "\n",
    "3. Repeat Steps 1 and 2 for `coinbase.csv` file."
   ]
  },
  {
   "cell_type": "markdown",
   "metadata": {},
   "source": [
    "### Step 1: Using the Pandas `read_csv` function and the `Path` module, import the data from `bitstamp.csv` file, and create a DataFrame called `bitstamp`. Set the DatetimeIndex as the Timestamp column, and be sure to parse and format the dates."
   ]
  },
  {
   "cell_type": "code",
   "execution_count": 2,
   "metadata": {},
   "outputs": [],
   "source": [
    "# Read in the CSV file called \"bitstamp.csv\" using the Path module. \n",
    "# The CSV file is located in the Resources folder.\n",
    "# Set the index to the column \"Date\"\n",
    "# Set the parse_dates and infer_datetime_format parameters\n",
    "bitstamp_path = Path(\"Resources/bitstamp.csv\")\n",
    "##!ls Resources ## check the reference path correct or not\n",
    "\n",
    "bitstamp = pd.read_csv(\n",
    "            bitstamp_path,\n",
    "            index_col=\"Timestamp\", \n",
    "            parse_dates = True, \n",
    "            infer_datetime_format = True\n",
    ")\n"
   ]
  },
  {
   "cell_type": "markdown",
   "metadata": {},
   "source": [
    "### Step 2: Use the `head` (and/or the `tail`) function to confirm that Pandas properly imported the data."
   ]
  },
  {
   "cell_type": "code",
   "execution_count": 3,
   "metadata": {},
   "outputs": [
    {
     "data": {
      "text/html": [
       "<div>\n",
       "<style scoped>\n",
       "    .dataframe tbody tr th:only-of-type {\n",
       "        vertical-align: middle;\n",
       "    }\n",
       "\n",
       "    .dataframe tbody tr th {\n",
       "        vertical-align: top;\n",
       "    }\n",
       "\n",
       "    .dataframe thead th {\n",
       "        text-align: right;\n",
       "    }\n",
       "</style>\n",
       "<table border=\"1\" class=\"dataframe\">\n",
       "  <thead>\n",
       "    <tr style=\"text-align: right;\">\n",
       "      <th></th>\n",
       "      <th>Open</th>\n",
       "      <th>High</th>\n",
       "      <th>Low</th>\n",
       "      <th>Close</th>\n",
       "      <th>BTC Volume</th>\n",
       "      <th>USD Volume</th>\n",
       "      <th>Weighted Price</th>\n",
       "    </tr>\n",
       "    <tr>\n",
       "      <th>Timestamp</th>\n",
       "      <th></th>\n",
       "      <th></th>\n",
       "      <th></th>\n",
       "      <th></th>\n",
       "      <th></th>\n",
       "      <th></th>\n",
       "      <th></th>\n",
       "    </tr>\n",
       "  </thead>\n",
       "  <tbody>\n",
       "    <tr>\n",
       "      <th>2018-01-01 00:00:00</th>\n",
       "      <td>13681.04</td>\n",
       "      <td>13681.04</td>\n",
       "      <td>13637.93</td>\n",
       "      <td>$13646.48</td>\n",
       "      <td>3.334553</td>\n",
       "      <td>45482.128785</td>\n",
       "      <td>13639.647479</td>\n",
       "    </tr>\n",
       "    <tr>\n",
       "      <th>2018-01-01 00:01:00</th>\n",
       "      <td>13646.48</td>\n",
       "      <td>13658.75</td>\n",
       "      <td>13610.18</td>\n",
       "      <td>$13658.75</td>\n",
       "      <td>2.663188</td>\n",
       "      <td>36361.390888</td>\n",
       "      <td>13653.332816</td>\n",
       "    </tr>\n",
       "    <tr>\n",
       "      <th>2018-01-01 00:02:00</th>\n",
       "      <td>13616.93</td>\n",
       "      <td>13616.93</td>\n",
       "      <td>13610.06</td>\n",
       "      <td>$13610.22</td>\n",
       "      <td>0.084653</td>\n",
       "      <td>1152.144036</td>\n",
       "      <td>13610.136247</td>\n",
       "    </tr>\n",
       "    <tr>\n",
       "      <th>2018-01-01 00:03:00</th>\n",
       "      <td>13610.27</td>\n",
       "      <td>13639.09</td>\n",
       "      <td>13610.27</td>\n",
       "      <td>$13639.09</td>\n",
       "      <td>7.182986</td>\n",
       "      <td>97856.416478</td>\n",
       "      <td>13623.361128</td>\n",
       "    </tr>\n",
       "    <tr>\n",
       "      <th>2018-01-01 00:04:00</th>\n",
       "      <td>13635.35</td>\n",
       "      <td>13636.35</td>\n",
       "      <td>13620.00</td>\n",
       "      <td>$13620.0</td>\n",
       "      <td>1.069665</td>\n",
       "      <td>14582.660932</td>\n",
       "      <td>13632.923329</td>\n",
       "    </tr>\n",
       "  </tbody>\n",
       "</table>\n",
       "</div>"
      ],
      "text/plain": [
       "                         Open      High       Low      Close  BTC Volume  \\\n",
       "Timestamp                                                                  \n",
       "2018-01-01 00:00:00  13681.04  13681.04  13637.93  $13646.48    3.334553   \n",
       "2018-01-01 00:01:00  13646.48  13658.75  13610.18  $13658.75    2.663188   \n",
       "2018-01-01 00:02:00  13616.93  13616.93  13610.06  $13610.22    0.084653   \n",
       "2018-01-01 00:03:00  13610.27  13639.09  13610.27  $13639.09    7.182986   \n",
       "2018-01-01 00:04:00  13635.35  13636.35  13620.00   $13620.0    1.069665   \n",
       "\n",
       "                       USD Volume  Weighted Price  \n",
       "Timestamp                                          \n",
       "2018-01-01 00:00:00  45482.128785    13639.647479  \n",
       "2018-01-01 00:01:00  36361.390888    13653.332816  \n",
       "2018-01-01 00:02:00   1152.144036    13610.136247  \n",
       "2018-01-01 00:03:00  97856.416478    13623.361128  \n",
       "2018-01-01 00:04:00  14582.660932    13632.923329  "
      ]
     },
     "metadata": {},
     "output_type": "display_data"
    },
    {
     "data": {
      "text/html": [
       "<div>\n",
       "<style scoped>\n",
       "    .dataframe tbody tr th:only-of-type {\n",
       "        vertical-align: middle;\n",
       "    }\n",
       "\n",
       "    .dataframe tbody tr th {\n",
       "        vertical-align: top;\n",
       "    }\n",
       "\n",
       "    .dataframe thead th {\n",
       "        text-align: right;\n",
       "    }\n",
       "</style>\n",
       "<table border=\"1\" class=\"dataframe\">\n",
       "  <thead>\n",
       "    <tr style=\"text-align: right;\">\n",
       "      <th></th>\n",
       "      <th>Open</th>\n",
       "      <th>High</th>\n",
       "      <th>Low</th>\n",
       "      <th>Close</th>\n",
       "      <th>BTC Volume</th>\n",
       "      <th>USD Volume</th>\n",
       "      <th>Weighted Price</th>\n",
       "    </tr>\n",
       "    <tr>\n",
       "      <th>Timestamp</th>\n",
       "      <th></th>\n",
       "      <th></th>\n",
       "      <th></th>\n",
       "      <th></th>\n",
       "      <th></th>\n",
       "      <th></th>\n",
       "      <th></th>\n",
       "    </tr>\n",
       "  </thead>\n",
       "  <tbody>\n",
       "    <tr>\n",
       "      <th>2018-03-31 23:55:00</th>\n",
       "      <td>6935.01</td>\n",
       "      <td>6939.07</td>\n",
       "      <td>6922.56</td>\n",
       "      <td>$6922.56</td>\n",
       "      <td>1.044354</td>\n",
       "      <td>7240.034602</td>\n",
       "      <td>6932.550078</td>\n",
       "    </tr>\n",
       "    <tr>\n",
       "      <th>2018-03-31 23:56:00</th>\n",
       "      <td>6922.02</td>\n",
       "      <td>6922.02</td>\n",
       "      <td>6918.00</td>\n",
       "      <td>$6920.32</td>\n",
       "      <td>3.069539</td>\n",
       "      <td>21245.076275</td>\n",
       "      <td>6921.260233</td>\n",
       "    </tr>\n",
       "    <tr>\n",
       "      <th>2018-03-31 23:57:00</th>\n",
       "      <td>6920.33</td>\n",
       "      <td>6936.42</td>\n",
       "      <td>6920.33</td>\n",
       "      <td>$6934.72</td>\n",
       "      <td>28.239049</td>\n",
       "      <td>195789.408220</td>\n",
       "      <td>6933.286106</td>\n",
       "    </tr>\n",
       "    <tr>\n",
       "      <th>2018-03-31 23:58:00</th>\n",
       "      <td>6927.65</td>\n",
       "      <td>6929.42</td>\n",
       "      <td>6927.65</td>\n",
       "      <td>$6927.65</td>\n",
       "      <td>0.839507</td>\n",
       "      <td>5817.007705</td>\n",
       "      <td>6929.080007</td>\n",
       "    </tr>\n",
       "    <tr>\n",
       "      <th>2018-03-31 23:59:00</th>\n",
       "      <td>6929.98</td>\n",
       "      <td>6929.98</td>\n",
       "      <td>6928.00</td>\n",
       "      <td>$6928.01</td>\n",
       "      <td>0.209363</td>\n",
       "      <td>1450.735763</td>\n",
       "      <td>6929.289993</td>\n",
       "    </tr>\n",
       "  </tbody>\n",
       "</table>\n",
       "</div>"
      ],
      "text/plain": [
       "                        Open     High      Low     Close  BTC Volume  \\\n",
       "Timestamp                                                              \n",
       "2018-03-31 23:55:00  6935.01  6939.07  6922.56  $6922.56    1.044354   \n",
       "2018-03-31 23:56:00  6922.02  6922.02  6918.00  $6920.32    3.069539   \n",
       "2018-03-31 23:57:00  6920.33  6936.42  6920.33  $6934.72   28.239049   \n",
       "2018-03-31 23:58:00  6927.65  6929.42  6927.65  $6927.65    0.839507   \n",
       "2018-03-31 23:59:00  6929.98  6929.98  6928.00  $6928.01    0.209363   \n",
       "\n",
       "                        USD Volume  Weighted Price  \n",
       "Timestamp                                           \n",
       "2018-03-31 23:55:00    7240.034602     6932.550078  \n",
       "2018-03-31 23:56:00   21245.076275     6921.260233  \n",
       "2018-03-31 23:57:00  195789.408220     6933.286106  \n",
       "2018-03-31 23:58:00    5817.007705     6929.080007  \n",
       "2018-03-31 23:59:00    1450.735763     6929.289993  "
      ]
     },
     "metadata": {},
     "output_type": "display_data"
    },
    {
     "name": "stdout",
     "output_type": "stream",
     "text": [
      "<class 'pandas.core.frame.DataFrame'>\n",
      "DatetimeIndex: 129540 entries, 2018-01-01 00:00:00 to 2018-03-31 23:59:00\n",
      "Data columns (total 7 columns):\n",
      " #   Column          Non-Null Count   Dtype  \n",
      "---  ------          --------------   -----  \n",
      " 0   Open            129067 non-null  float64\n",
      " 1   High            129067 non-null  float64\n",
      " 2   Low             129067 non-null  float64\n",
      " 3   Close           129540 non-null  object \n",
      " 4   BTC Volume      129067 non-null  float64\n",
      " 5   USD Volume      129067 non-null  float64\n",
      " 6   Weighted Price  129067 non-null  float64\n",
      "dtypes: float64(6), object(1)\n",
      "memory usage: 7.9+ MB\n"
     ]
    }
   ],
   "source": [
    "# Use the head (and/or tail) function to confirm that the data was imported properly.\n",
    "display(bitstamp.head())\n",
    "display(bitstamp.tail())\n",
    "bitstamp.info()## check dataframe info column and datatype etc"
   ]
  },
  {
   "cell_type": "markdown",
   "metadata": {},
   "source": [
    "### Step 3: Repeat Steps 1 and 2 for `coinbase.csv` file."
   ]
  },
  {
   "cell_type": "code",
   "execution_count": 4,
   "metadata": {},
   "outputs": [
    {
     "name": "stdout",
     "output_type": "stream",
     "text": [
      "bitstamp.csv\n",
      "coinbase.csv\n"
     ]
    }
   ],
   "source": [
    "# Read in the CSV file called \"coinbase.csv\" using the Path module. \n",
    "# The CSV file is located in the Resources folder.\n",
    "# Set the index to the column \"Timestamp\"\n",
    "# Set the parse_dates and infer_datetime_format parameters\n",
    "coinbase_path = Path(\"Resources/coinbase.csv\")\n",
    "!ls Resources\n",
    "\n",
    "coinbase = pd.read_csv(\n",
    "            coinbase_path,\n",
    "            index_col=\"Timestamp\", \n",
    "            parse_dates = True, \n",
    "            infer_datetime_format = True\n",
    ")\n"
   ]
  },
  {
   "cell_type": "code",
   "execution_count": 5,
   "metadata": {},
   "outputs": [
    {
     "data": {
      "text/html": [
       "<div>\n",
       "<style scoped>\n",
       "    .dataframe tbody tr th:only-of-type {\n",
       "        vertical-align: middle;\n",
       "    }\n",
       "\n",
       "    .dataframe tbody tr th {\n",
       "        vertical-align: top;\n",
       "    }\n",
       "\n",
       "    .dataframe thead th {\n",
       "        text-align: right;\n",
       "    }\n",
       "</style>\n",
       "<table border=\"1\" class=\"dataframe\">\n",
       "  <thead>\n",
       "    <tr style=\"text-align: right;\">\n",
       "      <th></th>\n",
       "      <th>Open</th>\n",
       "      <th>High</th>\n",
       "      <th>Low</th>\n",
       "      <th>Close</th>\n",
       "      <th>BTC Volume</th>\n",
       "      <th>USD Volume</th>\n",
       "      <th>Weighted Price</th>\n",
       "    </tr>\n",
       "    <tr>\n",
       "      <th>Timestamp</th>\n",
       "      <th></th>\n",
       "      <th></th>\n",
       "      <th></th>\n",
       "      <th></th>\n",
       "      <th></th>\n",
       "      <th></th>\n",
       "      <th></th>\n",
       "    </tr>\n",
       "  </thead>\n",
       "  <tbody>\n",
       "    <tr>\n",
       "      <th>2018-01-01 00:00:00</th>\n",
       "      <td>13620.00</td>\n",
       "      <td>13620.00</td>\n",
       "      <td>13608.49</td>\n",
       "      <td>$13608.49</td>\n",
       "      <td>20.812754</td>\n",
       "      <td>283451.08537</td>\n",
       "      <td>13619.105106</td>\n",
       "    </tr>\n",
       "    <tr>\n",
       "      <th>2018-01-01 00:01:00</th>\n",
       "      <td>13607.14</td>\n",
       "      <td>13607.14</td>\n",
       "      <td>13601.66</td>\n",
       "      <td>$13601.66</td>\n",
       "      <td>13.474359</td>\n",
       "      <td>183283.97801</td>\n",
       "      <td>13602.426919</td>\n",
       "    </tr>\n",
       "    <tr>\n",
       "      <th>2018-01-01 00:02:00</th>\n",
       "      <td>13601.44</td>\n",
       "      <td>13601.44</td>\n",
       "      <td>13580.00</td>\n",
       "      <td>$13580.0</td>\n",
       "      <td>11.536360</td>\n",
       "      <td>156789.19686</td>\n",
       "      <td>13590.872506</td>\n",
       "    </tr>\n",
       "    <tr>\n",
       "      <th>2018-01-01 00:03:00</th>\n",
       "      <td>13587.31</td>\n",
       "      <td>13587.31</td>\n",
       "      <td>13542.70</td>\n",
       "      <td>$13550.34</td>\n",
       "      <td>16.328039</td>\n",
       "      <td>221413.64182</td>\n",
       "      <td>13560.332806</td>\n",
       "    </tr>\n",
       "    <tr>\n",
       "      <th>2018-01-01 00:04:00</th>\n",
       "      <td>13550.34</td>\n",
       "      <td>13585.95</td>\n",
       "      <td>13550.34</td>\n",
       "      <td>$13583.44</td>\n",
       "      <td>9.955364</td>\n",
       "      <td>135141.26944</td>\n",
       "      <td>13574.719401</td>\n",
       "    </tr>\n",
       "  </tbody>\n",
       "</table>\n",
       "</div>"
      ],
      "text/plain": [
       "                         Open      High       Low      Close  BTC Volume  \\\n",
       "Timestamp                                                                  \n",
       "2018-01-01 00:00:00  13620.00  13620.00  13608.49  $13608.49   20.812754   \n",
       "2018-01-01 00:01:00  13607.14  13607.14  13601.66  $13601.66   13.474359   \n",
       "2018-01-01 00:02:00  13601.44  13601.44  13580.00   $13580.0   11.536360   \n",
       "2018-01-01 00:03:00  13587.31  13587.31  13542.70  $13550.34   16.328039   \n",
       "2018-01-01 00:04:00  13550.34  13585.95  13550.34  $13583.44    9.955364   \n",
       "\n",
       "                       USD Volume  Weighted Price  \n",
       "Timestamp                                          \n",
       "2018-01-01 00:00:00  283451.08537    13619.105106  \n",
       "2018-01-01 00:01:00  183283.97801    13602.426919  \n",
       "2018-01-01 00:02:00  156789.19686    13590.872506  \n",
       "2018-01-01 00:03:00  221413.64182    13560.332806  \n",
       "2018-01-01 00:04:00  135141.26944    13574.719401  "
      ]
     },
     "metadata": {},
     "output_type": "display_data"
    },
    {
     "data": {
      "text/html": [
       "<div>\n",
       "<style scoped>\n",
       "    .dataframe tbody tr th:only-of-type {\n",
       "        vertical-align: middle;\n",
       "    }\n",
       "\n",
       "    .dataframe tbody tr th {\n",
       "        vertical-align: top;\n",
       "    }\n",
       "\n",
       "    .dataframe thead th {\n",
       "        text-align: right;\n",
       "    }\n",
       "</style>\n",
       "<table border=\"1\" class=\"dataframe\">\n",
       "  <thead>\n",
       "    <tr style=\"text-align: right;\">\n",
       "      <th></th>\n",
       "      <th>Open</th>\n",
       "      <th>High</th>\n",
       "      <th>Low</th>\n",
       "      <th>Close</th>\n",
       "      <th>BTC Volume</th>\n",
       "      <th>USD Volume</th>\n",
       "      <th>Weighted Price</th>\n",
       "    </tr>\n",
       "    <tr>\n",
       "      <th>Timestamp</th>\n",
       "      <th></th>\n",
       "      <th></th>\n",
       "      <th></th>\n",
       "      <th></th>\n",
       "      <th></th>\n",
       "      <th></th>\n",
       "      <th></th>\n",
       "    </tr>\n",
       "  </thead>\n",
       "  <tbody>\n",
       "    <tr>\n",
       "      <th>2018-03-31 23:55:00</th>\n",
       "      <td>6945.20</td>\n",
       "      <td>6948.06</td>\n",
       "      <td>6930.00</td>\n",
       "      <td>$6930.0</td>\n",
       "      <td>5.802288</td>\n",
       "      <td>40243.918480</td>\n",
       "      <td>6935.869979</td>\n",
       "    </tr>\n",
       "    <tr>\n",
       "      <th>2018-03-31 23:56:00</th>\n",
       "      <td>6930.00</td>\n",
       "      <td>6930.01</td>\n",
       "      <td>6930.00</td>\n",
       "      <td>$6930.01</td>\n",
       "      <td>0.625053</td>\n",
       "      <td>4331.620701</td>\n",
       "      <td>6930.005567</td>\n",
       "    </tr>\n",
       "    <tr>\n",
       "      <th>2018-03-31 23:57:00</th>\n",
       "      <td>6930.01</td>\n",
       "      <td>6933.91</td>\n",
       "      <td>6930.01</td>\n",
       "      <td>$6933.91</td>\n",
       "      <td>0.776431</td>\n",
       "      <td>5382.532162</td>\n",
       "      <td>6932.405747</td>\n",
       "    </tr>\n",
       "    <tr>\n",
       "      <th>2018-03-31 23:58:00</th>\n",
       "      <td>6933.91</td>\n",
       "      <td>6938.00</td>\n",
       "      <td>6933.90</td>\n",
       "      <td>$6937.31</td>\n",
       "      <td>0.133413</td>\n",
       "      <td>925.356547</td>\n",
       "      <td>6936.048538</td>\n",
       "    </tr>\n",
       "    <tr>\n",
       "      <th>2018-03-31 23:59:00</th>\n",
       "      <td>6937.30</td>\n",
       "      <td>6937.30</td>\n",
       "      <td>6931.09</td>\n",
       "      <td>$6934.0</td>\n",
       "      <td>1.012720</td>\n",
       "      <td>7022.275088</td>\n",
       "      <td>6934.070316</td>\n",
       "    </tr>\n",
       "  </tbody>\n",
       "</table>\n",
       "</div>"
      ],
      "text/plain": [
       "                        Open     High      Low     Close  BTC Volume  \\\n",
       "Timestamp                                                              \n",
       "2018-03-31 23:55:00  6945.20  6948.06  6930.00   $6930.0    5.802288   \n",
       "2018-03-31 23:56:00  6930.00  6930.01  6930.00  $6930.01    0.625053   \n",
       "2018-03-31 23:57:00  6930.01  6933.91  6930.01  $6933.91    0.776431   \n",
       "2018-03-31 23:58:00  6933.91  6938.00  6933.90  $6937.31    0.133413   \n",
       "2018-03-31 23:59:00  6937.30  6937.30  6931.09   $6934.0    1.012720   \n",
       "\n",
       "                       USD Volume  Weighted Price  \n",
       "Timestamp                                          \n",
       "2018-03-31 23:55:00  40243.918480     6935.869979  \n",
       "2018-03-31 23:56:00   4331.620701     6930.005567  \n",
       "2018-03-31 23:57:00   5382.532162     6932.405747  \n",
       "2018-03-31 23:58:00    925.356547     6936.048538  \n",
       "2018-03-31 23:59:00   7022.275088     6934.070316  "
      ]
     },
     "metadata": {},
     "output_type": "display_data"
    },
    {
     "name": "stdout",
     "output_type": "stream",
     "text": [
      "<class 'pandas.core.frame.DataFrame'>\n",
      "DatetimeIndex: 129540 entries, 2018-01-01 00:00:00 to 2018-03-31 23:59:00\n",
      "Data columns (total 7 columns):\n",
      " #   Column          Non-Null Count   Dtype  \n",
      "---  ------          --------------   -----  \n",
      " 0   Open            129322 non-null  float64\n",
      " 1   High            129322 non-null  float64\n",
      " 2   Low             129322 non-null  float64\n",
      " 3   Close           129540 non-null  object \n",
      " 4   BTC Volume      129322 non-null  float64\n",
      " 5   USD Volume      129322 non-null  float64\n",
      " 6   Weighted Price  129322 non-null  float64\n",
      "dtypes: float64(6), object(1)\n",
      "memory usage: 7.9+ MB\n"
     ]
    }
   ],
   "source": [
    "# Use the head (and/or tail) function to confirm that the data was imported properly.\n",
    "display(coinbase.head())\n",
    "display(coinbase.tail())\n",
    "coinbase.info()## check dataframe info column and datatype etc"
   ]
  },
  {
   "cell_type": "markdown",
   "metadata": {},
   "source": [
    "## Prepare the Data\n",
    "\n",
    "To prepare and clean your data for analysis, complete the following steps:\n",
    "\n",
    "1. For the bitstamp DataFrame, replace or drop all `NaN`, or missing, values in the DataFrame.\n",
    "\n",
    "2. Use the `str.replace` function to remove the dollar signs ($) from the values in the Close column.\n",
    "\n",
    "3. Convert the data type of the Close column to a `float`.\n",
    "\n",
    "4. Review the data for duplicated values, and drop them if necessary.\n",
    "\n",
    "5. Repeat Steps 1–4 for the coinbase DataFrame."
   ]
  },
  {
   "cell_type": "markdown",
   "metadata": {},
   "source": [
    "### Step 1: For the bitstamp DataFrame, replace or drop all `NaN`, or missing, values in the DataFrame."
   ]
  },
  {
   "cell_type": "code",
   "execution_count": 6,
   "metadata": {},
   "outputs": [
    {
     "data": {
      "text/plain": [
       "Open              0.365138\n",
       "High              0.365138\n",
       "Low               0.365138\n",
       "Close             0.000000\n",
       "BTC Volume        0.365138\n",
       "USD Volume        0.365138\n",
       "Weighted Price    0.365138\n",
       "dtype: float64"
      ]
     },
     "execution_count": 6,
     "metadata": {},
     "output_type": "execute_result"
    }
   ],
   "source": [
    "# For the bitstamp DataFrame, replace or drop all NaNs or missing values in the DataFrame\n",
    "bitstamp.isnull().sum() ## check sum of missing in each column \n",
    "bitstamp.isnull().mean()*100 ## check percent of missing in each row and column\n",
    "\n"
   ]
  },
  {
   "cell_type": "code",
   "execution_count": 7,
   "metadata": {},
   "outputs": [
    {
     "data": {
      "text/plain": [
       "Open              0\n",
       "High              0\n",
       "Low               0\n",
       "Close             0\n",
       "BTC Volume        0\n",
       "USD Volume        0\n",
       "Weighted Price    0\n",
       "dtype: int64"
      ]
     },
     "execution_count": 7,
     "metadata": {},
     "output_type": "execute_result"
    }
   ],
   "source": [
    "clean_bitstamp = bitstamp.dropna(how=\"any\")##drop all NaNs or missing values in dataframe , where by setting how: how takes string value of two kinds only (‘any’ or ‘all’). ‘any’ drops the row/column if ANY value is Null and ‘all’ drops only if ALL values are null.\n",
    "clean_bitstamp.count()\n",
    "clean_bitstamp.isnull().sum()## check and no missing in ecah row and column\n",
    "\n",
    "## Alternative: to replace all NaN value with 'Unknown' use the code below: Not applied in this analysis\n",
    "##bitstamp = bitstamp_df.fillna('Unknown')\n",
    "##bitstamp.head()\n"
   ]
  },
  {
   "cell_type": "markdown",
   "metadata": {},
   "source": [
    "### Step 2: Use the `str.replace` function to remove the dollar signs ($) from the values in the Close column."
   ]
  },
  {
   "cell_type": "code",
   "execution_count": 8,
   "metadata": {},
   "outputs": [
    {
     "data": {
      "text/html": [
       "<div>\n",
       "<style scoped>\n",
       "    .dataframe tbody tr th:only-of-type {\n",
       "        vertical-align: middle;\n",
       "    }\n",
       "\n",
       "    .dataframe tbody tr th {\n",
       "        vertical-align: top;\n",
       "    }\n",
       "\n",
       "    .dataframe thead th {\n",
       "        text-align: right;\n",
       "    }\n",
       "</style>\n",
       "<table border=\"1\" class=\"dataframe\">\n",
       "  <thead>\n",
       "    <tr style=\"text-align: right;\">\n",
       "      <th></th>\n",
       "      <th>Open</th>\n",
       "      <th>High</th>\n",
       "      <th>Low</th>\n",
       "      <th>Close</th>\n",
       "      <th>BTC Volume</th>\n",
       "      <th>USD Volume</th>\n",
       "      <th>Weighted Price</th>\n",
       "    </tr>\n",
       "    <tr>\n",
       "      <th>Timestamp</th>\n",
       "      <th></th>\n",
       "      <th></th>\n",
       "      <th></th>\n",
       "      <th></th>\n",
       "      <th></th>\n",
       "      <th></th>\n",
       "      <th></th>\n",
       "    </tr>\n",
       "  </thead>\n",
       "  <tbody>\n",
       "    <tr>\n",
       "      <th>2018-01-01 00:00:00</th>\n",
       "      <td>13681.04</td>\n",
       "      <td>13681.04</td>\n",
       "      <td>13637.93</td>\n",
       "      <td>13646.48</td>\n",
       "      <td>3.334553</td>\n",
       "      <td>45482.128785</td>\n",
       "      <td>13639.647479</td>\n",
       "    </tr>\n",
       "    <tr>\n",
       "      <th>2018-01-01 00:01:00</th>\n",
       "      <td>13646.48</td>\n",
       "      <td>13658.75</td>\n",
       "      <td>13610.18</td>\n",
       "      <td>13658.75</td>\n",
       "      <td>2.663188</td>\n",
       "      <td>36361.390888</td>\n",
       "      <td>13653.332816</td>\n",
       "    </tr>\n",
       "    <tr>\n",
       "      <th>2018-01-01 00:02:00</th>\n",
       "      <td>13616.93</td>\n",
       "      <td>13616.93</td>\n",
       "      <td>13610.06</td>\n",
       "      <td>13610.22</td>\n",
       "      <td>0.084653</td>\n",
       "      <td>1152.144036</td>\n",
       "      <td>13610.136247</td>\n",
       "    </tr>\n",
       "    <tr>\n",
       "      <th>2018-01-01 00:03:00</th>\n",
       "      <td>13610.27</td>\n",
       "      <td>13639.09</td>\n",
       "      <td>13610.27</td>\n",
       "      <td>13639.09</td>\n",
       "      <td>7.182986</td>\n",
       "      <td>97856.416478</td>\n",
       "      <td>13623.361128</td>\n",
       "    </tr>\n",
       "    <tr>\n",
       "      <th>2018-01-01 00:04:00</th>\n",
       "      <td>13635.35</td>\n",
       "      <td>13636.35</td>\n",
       "      <td>13620.00</td>\n",
       "      <td>13620.0</td>\n",
       "      <td>1.069665</td>\n",
       "      <td>14582.660932</td>\n",
       "      <td>13632.923329</td>\n",
       "    </tr>\n",
       "  </tbody>\n",
       "</table>\n",
       "</div>"
      ],
      "text/plain": [
       "                         Open      High       Low     Close  BTC Volume  \\\n",
       "Timestamp                                                                 \n",
       "2018-01-01 00:00:00  13681.04  13681.04  13637.93  13646.48    3.334553   \n",
       "2018-01-01 00:01:00  13646.48  13658.75  13610.18  13658.75    2.663188   \n",
       "2018-01-01 00:02:00  13616.93  13616.93  13610.06  13610.22    0.084653   \n",
       "2018-01-01 00:03:00  13610.27  13639.09  13610.27  13639.09    7.182986   \n",
       "2018-01-01 00:04:00  13635.35  13636.35  13620.00   13620.0    1.069665   \n",
       "\n",
       "                       USD Volume  Weighted Price  \n",
       "Timestamp                                          \n",
       "2018-01-01 00:00:00  45482.128785    13639.647479  \n",
       "2018-01-01 00:01:00  36361.390888    13653.332816  \n",
       "2018-01-01 00:02:00   1152.144036    13610.136247  \n",
       "2018-01-01 00:03:00  97856.416478    13623.361128  \n",
       "2018-01-01 00:04:00  14582.660932    13632.923329  "
      ]
     },
     "metadata": {},
     "output_type": "display_data"
    }
   ],
   "source": [
    "# Use the str.replace function to remove the dollar sign, $\n",
    "bitstamp['Close'] = bitstamp['Close'].str.replace('$', '')\n",
    "display(bitstamp.head())##check and dollar sign are removed"
   ]
  },
  {
   "cell_type": "markdown",
   "metadata": {},
   "source": [
    "### Step 3: Convert the data type of the Close column to a `float`."
   ]
  },
  {
   "cell_type": "code",
   "execution_count": 9,
   "metadata": {},
   "outputs": [
    {
     "data": {
      "text/plain": [
       "Open              float64\n",
       "High              float64\n",
       "Low               float64\n",
       "Close             float64\n",
       "BTC Volume        float64\n",
       "USD Volume        float64\n",
       "Weighted Price    float64\n",
       "dtype: object"
      ]
     },
     "execution_count": 9,
     "metadata": {},
     "output_type": "execute_result"
    }
   ],
   "source": [
    "# Convert the Close data type to a float\n",
    "bitstamp.loc[:,\"Close\"] =  bitstamp[\"Close\"].astype(\"float\")\n",
    "bitstamp.dtypes ## check and the Close column is float now."
   ]
  },
  {
   "cell_type": "markdown",
   "metadata": {},
   "source": [
    "### Step 4: Review the data for duplicated values, and drop them if necessary."
   ]
  },
  {
   "cell_type": "code",
   "execution_count": 10,
   "metadata": {},
   "outputs": [
    {
     "data": {
      "text/plain": [
       "Timestamp\n",
       "2018-01-01 00:00:00    False\n",
       "2018-01-01 00:01:00    False\n",
       "2018-01-01 00:02:00    False\n",
       "2018-01-01 00:03:00    False\n",
       "2018-01-01 00:04:00    False\n",
       "                       ...  \n",
       "2018-03-31 23:55:00    False\n",
       "2018-03-31 23:56:00    False\n",
       "2018-03-31 23:57:00    False\n",
       "2018-03-31 23:58:00    False\n",
       "2018-03-31 23:59:00    False\n",
       "Length: 129540, dtype: bool"
      ]
     },
     "execution_count": 10,
     "metadata": {},
     "output_type": "execute_result"
    }
   ],
   "source": [
    "# Review the data for duplicate values, and drop them if necessary\n",
    "bitstamp.isnull().sum()\n",
    "bitstamp.loc[:,:].duplicated()## check all rows and cols and found no duplicated values to drop"
   ]
  },
  {
   "cell_type": "markdown",
   "metadata": {},
   "source": [
    "### Step 5: Repeat Steps 1–4 for the coinbase DataFrame."
   ]
  },
  {
   "cell_type": "code",
   "execution_count": 11,
   "metadata": {},
   "outputs": [
    {
     "data": {
      "text/plain": [
       "Open              0.168288\n",
       "High              0.168288\n",
       "Low               0.168288\n",
       "Close             0.000000\n",
       "BTC Volume        0.168288\n",
       "USD Volume        0.168288\n",
       "Weighted Price    0.168288\n",
       "dtype: float64"
      ]
     },
     "execution_count": 11,
     "metadata": {},
     "output_type": "execute_result"
    }
   ],
   "source": [
    "# Repeat Steps 1–4 for the coinbase DataFrame\n",
    "\n",
    "# step 1 coinbase: For the coinbase DataFrame, replace or drop all NaNs or missing values in the DataFrame\n",
    "coinbase.isnull().sum() ## check sum of missing in each column\n",
    "coinbase.isnull().mean()*100 ## check percent of missing in each row and column"
   ]
  },
  {
   "cell_type": "code",
   "execution_count": 12,
   "metadata": {},
   "outputs": [
    {
     "data": {
      "text/html": [
       "<div>\n",
       "<style scoped>\n",
       "    .dataframe tbody tr th:only-of-type {\n",
       "        vertical-align: middle;\n",
       "    }\n",
       "\n",
       "    .dataframe tbody tr th {\n",
       "        vertical-align: top;\n",
       "    }\n",
       "\n",
       "    .dataframe thead th {\n",
       "        text-align: right;\n",
       "    }\n",
       "</style>\n",
       "<table border=\"1\" class=\"dataframe\">\n",
       "  <thead>\n",
       "    <tr style=\"text-align: right;\">\n",
       "      <th></th>\n",
       "      <th>Open</th>\n",
       "      <th>High</th>\n",
       "      <th>Low</th>\n",
       "      <th>Close</th>\n",
       "      <th>BTC Volume</th>\n",
       "      <th>USD Volume</th>\n",
       "      <th>Weighted Price</th>\n",
       "    </tr>\n",
       "    <tr>\n",
       "      <th>Timestamp</th>\n",
       "      <th></th>\n",
       "      <th></th>\n",
       "      <th></th>\n",
       "      <th></th>\n",
       "      <th></th>\n",
       "      <th></th>\n",
       "      <th></th>\n",
       "    </tr>\n",
       "  </thead>\n",
       "  <tbody>\n",
       "    <tr>\n",
       "      <th>2018-01-01 00:00:00</th>\n",
       "      <td>13620.00</td>\n",
       "      <td>13620.00</td>\n",
       "      <td>13608.49</td>\n",
       "      <td>13608.49</td>\n",
       "      <td>20.812754</td>\n",
       "      <td>283451.08537</td>\n",
       "      <td>13619.105106</td>\n",
       "    </tr>\n",
       "    <tr>\n",
       "      <th>2018-01-01 00:01:00</th>\n",
       "      <td>13607.14</td>\n",
       "      <td>13607.14</td>\n",
       "      <td>13601.66</td>\n",
       "      <td>13601.66</td>\n",
       "      <td>13.474359</td>\n",
       "      <td>183283.97801</td>\n",
       "      <td>13602.426919</td>\n",
       "    </tr>\n",
       "    <tr>\n",
       "      <th>2018-01-01 00:02:00</th>\n",
       "      <td>13601.44</td>\n",
       "      <td>13601.44</td>\n",
       "      <td>13580.00</td>\n",
       "      <td>13580.0</td>\n",
       "      <td>11.536360</td>\n",
       "      <td>156789.19686</td>\n",
       "      <td>13590.872506</td>\n",
       "    </tr>\n",
       "    <tr>\n",
       "      <th>2018-01-01 00:03:00</th>\n",
       "      <td>13587.31</td>\n",
       "      <td>13587.31</td>\n",
       "      <td>13542.70</td>\n",
       "      <td>13550.34</td>\n",
       "      <td>16.328039</td>\n",
       "      <td>221413.64182</td>\n",
       "      <td>13560.332806</td>\n",
       "    </tr>\n",
       "    <tr>\n",
       "      <th>2018-01-01 00:04:00</th>\n",
       "      <td>13550.34</td>\n",
       "      <td>13585.95</td>\n",
       "      <td>13550.34</td>\n",
       "      <td>13583.44</td>\n",
       "      <td>9.955364</td>\n",
       "      <td>135141.26944</td>\n",
       "      <td>13574.719401</td>\n",
       "    </tr>\n",
       "  </tbody>\n",
       "</table>\n",
       "</div>"
      ],
      "text/plain": [
       "                         Open      High       Low     Close  BTC Volume  \\\n",
       "Timestamp                                                                 \n",
       "2018-01-01 00:00:00  13620.00  13620.00  13608.49  13608.49   20.812754   \n",
       "2018-01-01 00:01:00  13607.14  13607.14  13601.66  13601.66   13.474359   \n",
       "2018-01-01 00:02:00  13601.44  13601.44  13580.00   13580.0   11.536360   \n",
       "2018-01-01 00:03:00  13587.31  13587.31  13542.70  13550.34   16.328039   \n",
       "2018-01-01 00:04:00  13550.34  13585.95  13550.34  13583.44    9.955364   \n",
       "\n",
       "                       USD Volume  Weighted Price  \n",
       "Timestamp                                          \n",
       "2018-01-01 00:00:00  283451.08537    13619.105106  \n",
       "2018-01-01 00:01:00  183283.97801    13602.426919  \n",
       "2018-01-01 00:02:00  156789.19686    13590.872506  \n",
       "2018-01-01 00:03:00  221413.64182    13560.332806  \n",
       "2018-01-01 00:04:00  135141.26944    13574.719401  "
      ]
     },
     "metadata": {},
     "output_type": "display_data"
    }
   ],
   "source": [
    "#step 2 coinbase: Use the str.replace function to remove the dollar sign, $\n",
    "coinbase['Close'] = coinbase['Close'].str.replace('$', '')\n",
    "display(coinbase.head())##check and dollar sign are removed\n",
    "\n"
   ]
  },
  {
   "cell_type": "code",
   "execution_count": 13,
   "metadata": {},
   "outputs": [
    {
     "data": {
      "text/plain": [
       "Open              0\n",
       "High              0\n",
       "Low               0\n",
       "Close             0\n",
       "BTC Volume        0\n",
       "USD Volume        0\n",
       "Weighted Price    0\n",
       "dtype: int64"
      ]
     },
     "execution_count": 13,
     "metadata": {},
     "output_type": "execute_result"
    }
   ],
   "source": [
    "clean_coinbase = coinbase.dropna(how=\"any\")##  how: how takes string value of two kinds only (‘any’ or ‘all’). ‘any’ drops the row/column if ANY value is Null and ‘all’ drops only if ALL values are null.\n",
    "clean_coinbase.count()\n",
    "clean_coinbase.isnull().sum()## check and no missing in ecah row and column\n",
    "\n",
    "## Alternative: to replace all NaN value with 'Unknown' use the code below: Not applied in this analysis\n",
    "##coinbase = coinbase.fillna('Unknown')\n",
    "##coinbase.head()"
   ]
  },
  {
   "cell_type": "code",
   "execution_count": 14,
   "metadata": {},
   "outputs": [
    {
     "data": {
      "text/plain": [
       "Open              float64\n",
       "High              float64\n",
       "Low               float64\n",
       "Close             float64\n",
       "BTC Volume        float64\n",
       "USD Volume        float64\n",
       "Weighted Price    float64\n",
       "dtype: object"
      ]
     },
     "execution_count": 14,
     "metadata": {},
     "output_type": "execute_result"
    }
   ],
   "source": [
    "#step 3 coinbase: Convert the Close data type to a float\n",
    "coinbase.loc[:,\"Close\"] =  coinbase[\"Close\"].astype(\"float\")\n",
    "coinbase.dtypes ## check and the Close column is float now."
   ]
  },
  {
   "cell_type": "code",
   "execution_count": 15,
   "metadata": {},
   "outputs": [
    {
     "data": {
      "text/plain": [
       "Timestamp\n",
       "2018-01-01 00:00:00    False\n",
       "2018-01-01 00:01:00    False\n",
       "2018-01-01 00:02:00    False\n",
       "2018-01-01 00:03:00    False\n",
       "2018-01-01 00:04:00    False\n",
       "                       ...  \n",
       "2018-03-31 23:55:00    False\n",
       "2018-03-31 23:56:00    False\n",
       "2018-03-31 23:57:00    False\n",
       "2018-03-31 23:58:00    False\n",
       "2018-03-31 23:59:00    False\n",
       "Length: 129540, dtype: bool"
      ]
     },
     "execution_count": 15,
     "metadata": {},
     "output_type": "execute_result"
    }
   ],
   "source": [
    "#step 4 coinbase: Review the data for duplicate values, and drop them if necessary\n",
    "bitstamp.isnull().sum()\n",
    "bitstamp.loc[:,:].duplicated()## check all rows and cols and found no duplicated values to drop"
   ]
  },
  {
   "cell_type": "markdown",
   "metadata": {},
   "source": [
    "## Analyze the Data\n",
    "\n",
    "Your analysis consists of the following tasks: \n",
    "\n",
    "1. Choose the columns of data on which to focus your analysis.\n",
    "\n",
    "2. Get the summary statistics and plot the data.\n",
    "\n",
    "3. Focus your analysis on specific dates.\n",
    "\n",
    "4. Calculate the arbitrage profits."
   ]
  },
  {
   "cell_type": "markdown",
   "metadata": {},
   "source": [
    "### Step 1: Choose columns of data on which to focus your analysis.\n",
    "\n",
    "Select the data you want to analyze. Use `loc` or `iloc` to select the following columns of data for both the bitstamp and coinbase DataFrames:\n",
    "\n",
    "* Timestamp (index)\n",
    "\n",
    "* Close\n"
   ]
  },
  {
   "cell_type": "code",
   "execution_count": 16,
   "metadata": {},
   "outputs": [
    {
     "data": {
      "text/plain": [
       "Index(['Open', 'High', 'Low', 'Close', 'BTC Volume', 'USD Volume',\n",
       "       'Weighted Price'],\n",
       "      dtype='object')"
      ]
     },
     "execution_count": 16,
     "metadata": {},
     "output_type": "execute_result"
    }
   ],
   "source": [
    "bitstamp.columns##check column info and index for dataframe"
   ]
  },
  {
   "cell_type": "code",
   "execution_count": 17,
   "metadata": {},
   "outputs": [
    {
     "data": {
      "text/html": [
       "<div>\n",
       "<style scoped>\n",
       "    .dataframe tbody tr th:only-of-type {\n",
       "        vertical-align: middle;\n",
       "    }\n",
       "\n",
       "    .dataframe tbody tr th {\n",
       "        vertical-align: top;\n",
       "    }\n",
       "\n",
       "    .dataframe thead th {\n",
       "        text-align: right;\n",
       "    }\n",
       "</style>\n",
       "<table border=\"1\" class=\"dataframe\">\n",
       "  <thead>\n",
       "    <tr style=\"text-align: right;\">\n",
       "      <th></th>\n",
       "      <th>Close</th>\n",
       "    </tr>\n",
       "    <tr>\n",
       "      <th>Timestamp</th>\n",
       "      <th></th>\n",
       "    </tr>\n",
       "  </thead>\n",
       "  <tbody>\n",
       "    <tr>\n",
       "      <th>2018-01-01 00:00:00</th>\n",
       "      <td>13646.48</td>\n",
       "    </tr>\n",
       "    <tr>\n",
       "      <th>2018-01-01 00:01:00</th>\n",
       "      <td>13658.75</td>\n",
       "    </tr>\n",
       "    <tr>\n",
       "      <th>2018-01-01 00:02:00</th>\n",
       "      <td>13610.22</td>\n",
       "    </tr>\n",
       "    <tr>\n",
       "      <th>2018-01-01 00:03:00</th>\n",
       "      <td>13639.09</td>\n",
       "    </tr>\n",
       "    <tr>\n",
       "      <th>2018-01-01 00:04:00</th>\n",
       "      <td>13620.00</td>\n",
       "    </tr>\n",
       "  </tbody>\n",
       "</table>\n",
       "</div>"
      ],
      "text/plain": [
       "                        Close\n",
       "Timestamp                    \n",
       "2018-01-01 00:00:00  13646.48\n",
       "2018-01-01 00:01:00  13658.75\n",
       "2018-01-01 00:02:00  13610.22\n",
       "2018-01-01 00:03:00  13639.09\n",
       "2018-01-01 00:04:00  13620.00"
      ]
     },
     "metadata": {},
     "output_type": "display_data"
    }
   ],
   "source": [
    "# Use loc or iloc to select `Timestamp (the index)` and `Close` from bitstamp DataFrame\n",
    "bitstamp_sliced = bitstamp.iloc[:,[3]]\n",
    "# Review the first five rows of the DataFrame\n",
    "display(bitstamp_sliced.head(5))\n",
    "\n"
   ]
  },
  {
   "cell_type": "code",
   "execution_count": 18,
   "metadata": {},
   "outputs": [
    {
     "data": {
      "text/plain": [
       "Index(['Open', 'High', 'Low', 'Close', 'BTC Volume', 'USD Volume',\n",
       "       'Weighted Price'],\n",
       "      dtype='object')"
      ]
     },
     "execution_count": 18,
     "metadata": {},
     "output_type": "execute_result"
    }
   ],
   "source": [
    "coinbase.columns## To check column info and index for dataframe"
   ]
  },
  {
   "cell_type": "code",
   "execution_count": 19,
   "metadata": {},
   "outputs": [
    {
     "data": {
      "text/html": [
       "<div>\n",
       "<style scoped>\n",
       "    .dataframe tbody tr th:only-of-type {\n",
       "        vertical-align: middle;\n",
       "    }\n",
       "\n",
       "    .dataframe tbody tr th {\n",
       "        vertical-align: top;\n",
       "    }\n",
       "\n",
       "    .dataframe thead th {\n",
       "        text-align: right;\n",
       "    }\n",
       "</style>\n",
       "<table border=\"1\" class=\"dataframe\">\n",
       "  <thead>\n",
       "    <tr style=\"text-align: right;\">\n",
       "      <th></th>\n",
       "      <th>Close</th>\n",
       "    </tr>\n",
       "    <tr>\n",
       "      <th>Timestamp</th>\n",
       "      <th></th>\n",
       "    </tr>\n",
       "  </thead>\n",
       "  <tbody>\n",
       "    <tr>\n",
       "      <th>2018-01-01 00:00:00</th>\n",
       "      <td>13608.49</td>\n",
       "    </tr>\n",
       "    <tr>\n",
       "      <th>2018-01-01 00:01:00</th>\n",
       "      <td>13601.66</td>\n",
       "    </tr>\n",
       "    <tr>\n",
       "      <th>2018-01-01 00:02:00</th>\n",
       "      <td>13580.00</td>\n",
       "    </tr>\n",
       "    <tr>\n",
       "      <th>2018-01-01 00:03:00</th>\n",
       "      <td>13550.34</td>\n",
       "    </tr>\n",
       "    <tr>\n",
       "      <th>2018-01-01 00:04:00</th>\n",
       "      <td>13583.44</td>\n",
       "    </tr>\n",
       "  </tbody>\n",
       "</table>\n",
       "</div>"
      ],
      "text/plain": [
       "                        Close\n",
       "Timestamp                    \n",
       "2018-01-01 00:00:00  13608.49\n",
       "2018-01-01 00:01:00  13601.66\n",
       "2018-01-01 00:02:00  13580.00\n",
       "2018-01-01 00:03:00  13550.34\n",
       "2018-01-01 00:04:00  13583.44"
      ]
     },
     "metadata": {},
     "output_type": "display_data"
    }
   ],
   "source": [
    "# Use loc or iloc to select `Timestamp (the index)` and `Close` from coinbase DataFrame\n",
    "coinbase_sliced = coinbase.iloc[:,[3]]\n",
    "\n",
    "# Review the first five rows of the DataFrame\n",
    "display(coinbase_sliced.head(5))"
   ]
  },
  {
   "cell_type": "markdown",
   "metadata": {},
   "source": [
    "### Step 2: Get summary statistics and plot the data.\n",
    "\n",
    "Sort through the time series data associated with the bitstamp and coinbase DataFrames to identify potential arbitrage opportunities. To do so, complete the following steps:\n",
    "\n",
    "1. Generate the summary statistics for each DataFrame by using the `describe` function.\n",
    "\n",
    "2. For each DataFrame, create a line plot for the full period of time in the dataset. Be sure to tailor the figure size, title, and color to each visualization.\n",
    "\n",
    "3. In one plot, overlay the visualizations that you created in Step 2 for bitstamp and coinbase. Be sure to adjust the legend and title for this new visualization.\n",
    "\n",
    "4. Using the `loc` and `plot` functions, plot the price action of the assets on each exchange for different dates and times. Your goal is to evaluate how the spread between the two exchanges changed across the time period that the datasets define. Did the degree of spread change as time progressed?"
   ]
  },
  {
   "cell_type": "code",
   "execution_count": 20,
   "metadata": {},
   "outputs": [
    {
     "data": {
      "text/html": [
       "<div>\n",
       "<style scoped>\n",
       "    .dataframe tbody tr th:only-of-type {\n",
       "        vertical-align: middle;\n",
       "    }\n",
       "\n",
       "    .dataframe tbody tr th {\n",
       "        vertical-align: top;\n",
       "    }\n",
       "\n",
       "    .dataframe thead th {\n",
       "        text-align: right;\n",
       "    }\n",
       "</style>\n",
       "<table border=\"1\" class=\"dataframe\">\n",
       "  <thead>\n",
       "    <tr style=\"text-align: right;\">\n",
       "      <th></th>\n",
       "      <th>Open</th>\n",
       "      <th>High</th>\n",
       "      <th>Low</th>\n",
       "      <th>Close</th>\n",
       "      <th>BTC Volume</th>\n",
       "      <th>USD Volume</th>\n",
       "      <th>Weighted Price</th>\n",
       "    </tr>\n",
       "  </thead>\n",
       "  <tbody>\n",
       "    <tr>\n",
       "      <th>count</th>\n",
       "      <td>129067.000000</td>\n",
       "      <td>129067.000000</td>\n",
       "      <td>129067.000000</td>\n",
       "      <td>129067.000000</td>\n",
       "      <td>129067.000000</td>\n",
       "      <td>1.290670e+05</td>\n",
       "      <td>129067.000000</td>\n",
       "    </tr>\n",
       "    <tr>\n",
       "      <th>mean</th>\n",
       "      <td>10459.993683</td>\n",
       "      <td>10472.970114</td>\n",
       "      <td>10446.214703</td>\n",
       "      <td>10459.842453</td>\n",
       "      <td>11.792878</td>\n",
       "      <td>1.177496e+05</td>\n",
       "      <td>10459.384448</td>\n",
       "    </tr>\n",
       "    <tr>\n",
       "      <th>std</th>\n",
       "      <td>2315.909269</td>\n",
       "      <td>2318.929342</td>\n",
       "      <td>2312.331601</td>\n",
       "      <td>2315.976088</td>\n",
       "      <td>21.799938</td>\n",
       "      <td>2.070551e+05</td>\n",
       "      <td>2315.723480</td>\n",
       "    </tr>\n",
       "    <tr>\n",
       "      <th>min</th>\n",
       "      <td>5945.950000</td>\n",
       "      <td>5975.060000</td>\n",
       "      <td>5920.720000</td>\n",
       "      <td>5944.000000</td>\n",
       "      <td>0.000039</td>\n",
       "      <td>3.333436e-01</td>\n",
       "      <td>5949.997212</td>\n",
       "    </tr>\n",
       "    <tr>\n",
       "      <th>25%</th>\n",
       "      <td>8613.985000</td>\n",
       "      <td>8621.655000</td>\n",
       "      <td>8604.440000</td>\n",
       "      <td>8613.370000</td>\n",
       "      <td>1.711874</td>\n",
       "      <td>1.773244e+04</td>\n",
       "      <td>8613.587020</td>\n",
       "    </tr>\n",
       "    <tr>\n",
       "      <th>50%</th>\n",
       "      <td>10145.300000</td>\n",
       "      <td>10156.410000</td>\n",
       "      <td>10131.740000</td>\n",
       "      <td>10145.950000</td>\n",
       "      <td>4.994095</td>\n",
       "      <td>5.188050e+04</td>\n",
       "      <td>10144.740411</td>\n",
       "    </tr>\n",
       "    <tr>\n",
       "      <th>75%</th>\n",
       "      <td>11444.455000</td>\n",
       "      <td>11453.990000</td>\n",
       "      <td>11431.970000</td>\n",
       "      <td>11444.810000</td>\n",
       "      <td>12.717950</td>\n",
       "      <td>1.313104e+05</td>\n",
       "      <td>11443.791560</td>\n",
       "    </tr>\n",
       "    <tr>\n",
       "      <th>max</th>\n",
       "      <td>17234.980000</td>\n",
       "      <td>17234.990000</td>\n",
       "      <td>17214.960000</td>\n",
       "      <td>17234.980000</td>\n",
       "      <td>580.646391</td>\n",
       "      <td>5.483271e+06</td>\n",
       "      <td>17227.810502</td>\n",
       "    </tr>\n",
       "  </tbody>\n",
       "</table>\n",
       "</div>"
      ],
      "text/plain": [
       "                Open           High            Low          Close  \\\n",
       "count  129067.000000  129067.000000  129067.000000  129067.000000   \n",
       "mean    10459.993683   10472.970114   10446.214703   10459.842453   \n",
       "std      2315.909269    2318.929342    2312.331601    2315.976088   \n",
       "min      5945.950000    5975.060000    5920.720000    5944.000000   \n",
       "25%      8613.985000    8621.655000    8604.440000    8613.370000   \n",
       "50%     10145.300000   10156.410000   10131.740000   10145.950000   \n",
       "75%     11444.455000   11453.990000   11431.970000   11444.810000   \n",
       "max     17234.980000   17234.990000   17214.960000   17234.980000   \n",
       "\n",
       "          BTC Volume    USD Volume  Weighted Price  \n",
       "count  129067.000000  1.290670e+05   129067.000000  \n",
       "mean       11.792878  1.177496e+05    10459.384448  \n",
       "std        21.799938  2.070551e+05     2315.723480  \n",
       "min         0.000039  3.333436e-01     5949.997212  \n",
       "25%         1.711874  1.773244e+04     8613.587020  \n",
       "50%         4.994095  5.188050e+04    10144.740411  \n",
       "75%        12.717950  1.313104e+05    11443.791560  \n",
       "max       580.646391  5.483271e+06    17227.810502  "
      ]
     },
     "execution_count": 20,
     "metadata": {},
     "output_type": "execute_result"
    }
   ],
   "source": [
    "# Generate the summary statistics for the bitstamp DataFrame\n",
    "bitstamp.describe()\n"
   ]
  },
  {
   "cell_type": "code",
   "execution_count": 21,
   "metadata": {},
   "outputs": [
    {
     "data": {
      "text/html": [
       "<div>\n",
       "<style scoped>\n",
       "    .dataframe tbody tr th:only-of-type {\n",
       "        vertical-align: middle;\n",
       "    }\n",
       "\n",
       "    .dataframe tbody tr th {\n",
       "        vertical-align: top;\n",
       "    }\n",
       "\n",
       "    .dataframe thead th {\n",
       "        text-align: right;\n",
       "    }\n",
       "</style>\n",
       "<table border=\"1\" class=\"dataframe\">\n",
       "  <thead>\n",
       "    <tr style=\"text-align: right;\">\n",
       "      <th></th>\n",
       "      <th>Open</th>\n",
       "      <th>High</th>\n",
       "      <th>Low</th>\n",
       "      <th>Close</th>\n",
       "      <th>BTC Volume</th>\n",
       "      <th>USD Volume</th>\n",
       "      <th>Weighted Price</th>\n",
       "    </tr>\n",
       "  </thead>\n",
       "  <tbody>\n",
       "    <tr>\n",
       "      <th>count</th>\n",
       "      <td>23907.000000</td>\n",
       "      <td>23907.000000</td>\n",
       "      <td>23907.000000</td>\n",
       "      <td>23907.000000</td>\n",
       "      <td>23907.000000</td>\n",
       "      <td>2.390700e+04</td>\n",
       "      <td>23907.000000</td>\n",
       "    </tr>\n",
       "    <tr>\n",
       "      <th>mean</th>\n",
       "      <td>14422.330207</td>\n",
       "      <td>14442.294566</td>\n",
       "      <td>14400.553690</td>\n",
       "      <td>14422.480670</td>\n",
       "      <td>9.243227</td>\n",
       "      <td>1.322767e+05</td>\n",
       "      <td>14421.313358</td>\n",
       "    </tr>\n",
       "    <tr>\n",
       "      <th>std</th>\n",
       "      <td>1208.383248</td>\n",
       "      <td>1207.552482</td>\n",
       "      <td>1209.182064</td>\n",
       "      <td>1208.618887</td>\n",
       "      <td>14.910164</td>\n",
       "      <td>2.102149e+05</td>\n",
       "      <td>1208.610144</td>\n",
       "    </tr>\n",
       "    <tr>\n",
       "      <th>min</th>\n",
       "      <td>11899.870000</td>\n",
       "      <td>12002.030000</td>\n",
       "      <td>11882.640000</td>\n",
       "      <td>12000.010000</td>\n",
       "      <td>0.000589</td>\n",
       "      <td>8.814139e+00</td>\n",
       "      <td>11940.666610</td>\n",
       "    </tr>\n",
       "    <tr>\n",
       "      <th>25%</th>\n",
       "      <td>13576.995000</td>\n",
       "      <td>13595.400000</td>\n",
       "      <td>13557.030000</td>\n",
       "      <td>13576.695000</td>\n",
       "      <td>1.979423</td>\n",
       "      <td>2.858169e+04</td>\n",
       "      <td>13575.244205</td>\n",
       "    </tr>\n",
       "    <tr>\n",
       "      <th>50%</th>\n",
       "      <td>14248.000000</td>\n",
       "      <td>14262.600000</td>\n",
       "      <td>14227.550000</td>\n",
       "      <td>14249.000000</td>\n",
       "      <td>4.720932</td>\n",
       "      <td>6.849646e+04</td>\n",
       "      <td>14247.090460</td>\n",
       "    </tr>\n",
       "    <tr>\n",
       "      <th>75%</th>\n",
       "      <td>15057.310000</td>\n",
       "      <td>15078.775000</td>\n",
       "      <td>15030.475000</td>\n",
       "      <td>15055.000000</td>\n",
       "      <td>10.754970</td>\n",
       "      <td>1.544372e+05</td>\n",
       "      <td>15057.521915</td>\n",
       "    </tr>\n",
       "    <tr>\n",
       "      <th>max</th>\n",
       "      <td>17234.980000</td>\n",
       "      <td>17234.990000</td>\n",
       "      <td>17214.960000</td>\n",
       "      <td>17234.980000</td>\n",
       "      <td>345.896190</td>\n",
       "      <td>4.620886e+06</td>\n",
       "      <td>17227.810502</td>\n",
       "    </tr>\n",
       "  </tbody>\n",
       "</table>\n",
       "</div>"
      ],
      "text/plain": [
       "               Open          High           Low         Close    BTC Volume  \\\n",
       "count  23907.000000  23907.000000  23907.000000  23907.000000  23907.000000   \n",
       "mean   14422.330207  14442.294566  14400.553690  14422.480670      9.243227   \n",
       "std     1208.383248   1207.552482   1209.182064   1208.618887     14.910164   \n",
       "min    11899.870000  12002.030000  11882.640000  12000.010000      0.000589   \n",
       "25%    13576.995000  13595.400000  13557.030000  13576.695000      1.979423   \n",
       "50%    14248.000000  14262.600000  14227.550000  14249.000000      4.720932   \n",
       "75%    15057.310000  15078.775000  15030.475000  15055.000000     10.754970   \n",
       "max    17234.980000  17234.990000  17214.960000  17234.980000    345.896190   \n",
       "\n",
       "         USD Volume  Weighted Price  \n",
       "count  2.390700e+04    23907.000000  \n",
       "mean   1.322767e+05    14421.313358  \n",
       "std    2.102149e+05     1208.610144  \n",
       "min    8.814139e+00    11940.666610  \n",
       "25%    2.858169e+04    13575.244205  \n",
       "50%    6.849646e+04    14247.090460  \n",
       "75%    1.544372e+05    15057.521915  \n",
       "max    4.620886e+06    17227.810502  "
      ]
     },
     "execution_count": 21,
     "metadata": {},
     "output_type": "execute_result"
    }
   ],
   "source": [
    "## For further detailed report,  display summary statistics where close price is more than 12000.000000 to find out count and mean\n",
    "bitstamp.loc[bitstamp['Close'] > 12000.000000].describe()"
   ]
  },
  {
   "cell_type": "code",
   "execution_count": 22,
   "metadata": {},
   "outputs": [
    {
     "data": {
      "text/html": [
       "<div>\n",
       "<style scoped>\n",
       "    .dataframe tbody tr th:only-of-type {\n",
       "        vertical-align: middle;\n",
       "    }\n",
       "\n",
       "    .dataframe tbody tr th {\n",
       "        vertical-align: top;\n",
       "    }\n",
       "\n",
       "    .dataframe thead th {\n",
       "        text-align: right;\n",
       "    }\n",
       "</style>\n",
       "<table border=\"1\" class=\"dataframe\">\n",
       "  <thead>\n",
       "    <tr style=\"text-align: right;\">\n",
       "      <th></th>\n",
       "      <th>Open</th>\n",
       "      <th>High</th>\n",
       "      <th>Low</th>\n",
       "      <th>Close</th>\n",
       "      <th>BTC Volume</th>\n",
       "      <th>USD Volume</th>\n",
       "      <th>Weighted Price</th>\n",
       "    </tr>\n",
       "  </thead>\n",
       "  <tbody>\n",
       "    <tr>\n",
       "      <th>count</th>\n",
       "      <td>129322.000000</td>\n",
       "      <td>129322.000000</td>\n",
       "      <td>129322.000000</td>\n",
       "      <td>129322.000000</td>\n",
       "      <td>129322.000000</td>\n",
       "      <td>1.293220e+05</td>\n",
       "      <td>129322.000000</td>\n",
       "    </tr>\n",
       "    <tr>\n",
       "      <th>mean</th>\n",
       "      <td>10449.213185</td>\n",
       "      <td>10456.118514</td>\n",
       "      <td>10441.872248</td>\n",
       "      <td>10449.140958</td>\n",
       "      <td>15.666556</td>\n",
       "      <td>1.572565e+05</td>\n",
       "      <td>10448.964130</td>\n",
       "    </tr>\n",
       "    <tr>\n",
       "      <th>std</th>\n",
       "      <td>2317.194653</td>\n",
       "      <td>2317.710389</td>\n",
       "      <td>2316.570594</td>\n",
       "      <td>2317.197419</td>\n",
       "      <td>27.481647</td>\n",
       "      <td>2.667879e+05</td>\n",
       "      <td>2317.167139</td>\n",
       "    </tr>\n",
       "    <tr>\n",
       "      <th>min</th>\n",
       "      <td>5882.300000</td>\n",
       "      <td>5907.280000</td>\n",
       "      <td>5873.000000</td>\n",
       "      <td>5882.310000</td>\n",
       "      <td>0.000442</td>\n",
       "      <td>6.699174e+00</td>\n",
       "      <td>5883.394912</td>\n",
       "    </tr>\n",
       "    <tr>\n",
       "      <th>25%</th>\n",
       "      <td>8609.230000</td>\n",
       "      <td>8613.872500</td>\n",
       "      <td>8603.505000</td>\n",
       "      <td>8609.230000</td>\n",
       "      <td>2.999125</td>\n",
       "      <td>3.071222e+04</td>\n",
       "      <td>8609.135020</td>\n",
       "    </tr>\n",
       "    <tr>\n",
       "      <th>50%</th>\n",
       "      <td>10137.440000</td>\n",
       "      <td>10145.900000</td>\n",
       "      <td>10127.880000</td>\n",
       "      <td>10137.440000</td>\n",
       "      <td>7.092572</td>\n",
       "      <td>7.461366e+04</td>\n",
       "      <td>10136.035004</td>\n",
       "    </tr>\n",
       "    <tr>\n",
       "      <th>75%</th>\n",
       "      <td>11397.522500</td>\n",
       "      <td>11400.000000</td>\n",
       "      <td>11390.000000</td>\n",
       "      <td>11397.237500</td>\n",
       "      <td>16.954279</td>\n",
       "      <td>1.754530e+05</td>\n",
       "      <td>11396.970843</td>\n",
       "    </tr>\n",
       "    <tr>\n",
       "      <th>max</th>\n",
       "      <td>17178.000000</td>\n",
       "      <td>17178.000000</td>\n",
       "      <td>17177.990000</td>\n",
       "      <td>17177.990000</td>\n",
       "      <td>959.084903</td>\n",
       "      <td>1.152334e+07</td>\n",
       "      <td>17177.995495</td>\n",
       "    </tr>\n",
       "  </tbody>\n",
       "</table>\n",
       "</div>"
      ],
      "text/plain": [
       "                Open           High            Low          Close  \\\n",
       "count  129322.000000  129322.000000  129322.000000  129322.000000   \n",
       "mean    10449.213185   10456.118514   10441.872248   10449.140958   \n",
       "std      2317.194653    2317.710389    2316.570594    2317.197419   \n",
       "min      5882.300000    5907.280000    5873.000000    5882.310000   \n",
       "25%      8609.230000    8613.872500    8603.505000    8609.230000   \n",
       "50%     10137.440000   10145.900000   10127.880000   10137.440000   \n",
       "75%     11397.522500   11400.000000   11390.000000   11397.237500   \n",
       "max     17178.000000   17178.000000   17177.990000   17177.990000   \n",
       "\n",
       "          BTC Volume    USD Volume  Weighted Price  \n",
       "count  129322.000000  1.293220e+05   129322.000000  \n",
       "mean       15.666556  1.572565e+05    10448.964130  \n",
       "std        27.481647  2.667879e+05     2317.167139  \n",
       "min         0.000442  6.699174e+00     5883.394912  \n",
       "25%         2.999125  3.071222e+04     8609.135020  \n",
       "50%         7.092572  7.461366e+04    10136.035004  \n",
       "75%        16.954279  1.754530e+05    11396.970843  \n",
       "max       959.084903  1.152334e+07    17177.995495  "
      ]
     },
     "execution_count": 22,
     "metadata": {},
     "output_type": "execute_result"
    }
   ],
   "source": [
    "# Generate the summary statistics for the coinbase DataFrame\n",
    "coinbase.describe()"
   ]
  },
  {
   "cell_type": "code",
   "execution_count": 23,
   "metadata": {},
   "outputs": [
    {
     "data": {
      "text/html": [
       "<div>\n",
       "<style scoped>\n",
       "    .dataframe tbody tr th:only-of-type {\n",
       "        vertical-align: middle;\n",
       "    }\n",
       "\n",
       "    .dataframe tbody tr th {\n",
       "        vertical-align: top;\n",
       "    }\n",
       "\n",
       "    .dataframe thead th {\n",
       "        text-align: right;\n",
       "    }\n",
       "</style>\n",
       "<table border=\"1\" class=\"dataframe\">\n",
       "  <thead>\n",
       "    <tr style=\"text-align: right;\">\n",
       "      <th></th>\n",
       "      <th>Open</th>\n",
       "      <th>High</th>\n",
       "      <th>Low</th>\n",
       "      <th>Close</th>\n",
       "      <th>BTC Volume</th>\n",
       "      <th>USD Volume</th>\n",
       "      <th>Weighted Price</th>\n",
       "    </tr>\n",
       "  </thead>\n",
       "  <tbody>\n",
       "    <tr>\n",
       "      <th>count</th>\n",
       "      <td>23914.000000</td>\n",
       "      <td>23914.000000</td>\n",
       "      <td>23914.000000</td>\n",
       "      <td>23914.000000</td>\n",
       "      <td>23914.000000</td>\n",
       "      <td>2.391400e+04</td>\n",
       "      <td>23914.000000</td>\n",
       "    </tr>\n",
       "    <tr>\n",
       "      <th>mean</th>\n",
       "      <td>14431.769756</td>\n",
       "      <td>14440.320015</td>\n",
       "      <td>14422.617601</td>\n",
       "      <td>14431.756441</td>\n",
       "      <td>12.653255</td>\n",
       "      <td>1.812411e+05</td>\n",
       "      <td>14431.533254</td>\n",
       "    </tr>\n",
       "    <tr>\n",
       "      <th>std</th>\n",
       "      <td>1209.313067</td>\n",
       "      <td>1207.613212</td>\n",
       "      <td>1210.790526</td>\n",
       "      <td>1209.222487</td>\n",
       "      <td>20.403762</td>\n",
       "      <td>2.847815e+05</td>\n",
       "      <td>1209.272000</td>\n",
       "    </tr>\n",
       "    <tr>\n",
       "      <th>min</th>\n",
       "      <td>11876.980000</td>\n",
       "      <td>12000.010000</td>\n",
       "      <td>11876.980000</td>\n",
       "      <td>12000.010000</td>\n",
       "      <td>0.000442</td>\n",
       "      <td>6.699174e+00</td>\n",
       "      <td>11944.318791</td>\n",
       "    </tr>\n",
       "    <tr>\n",
       "      <th>25%</th>\n",
       "      <td>13586.892500</td>\n",
       "      <td>13595.000000</td>\n",
       "      <td>13579.000000</td>\n",
       "      <td>13586.890000</td>\n",
       "      <td>3.567942</td>\n",
       "      <td>5.145330e+04</td>\n",
       "      <td>13586.475429</td>\n",
       "    </tr>\n",
       "    <tr>\n",
       "      <th>50%</th>\n",
       "      <td>14244.995000</td>\n",
       "      <td>14250.000000</td>\n",
       "      <td>14240.000000</td>\n",
       "      <td>14244.965000</td>\n",
       "      <td>6.969842</td>\n",
       "      <td>1.005828e+05</td>\n",
       "      <td>14243.281143</td>\n",
       "    </tr>\n",
       "    <tr>\n",
       "      <th>75%</th>\n",
       "      <td>15069.912500</td>\n",
       "      <td>15075.000000</td>\n",
       "      <td>15059.997500</td>\n",
       "      <td>15069.960000</td>\n",
       "      <td>13.951879</td>\n",
       "      <td>2.010341e+05</td>\n",
       "      <td>15069.443999</td>\n",
       "    </tr>\n",
       "    <tr>\n",
       "      <th>max</th>\n",
       "      <td>17178.000000</td>\n",
       "      <td>17178.000000</td>\n",
       "      <td>17177.990000</td>\n",
       "      <td>17177.990000</td>\n",
       "      <td>959.084903</td>\n",
       "      <td>1.152334e+07</td>\n",
       "      <td>17177.995495</td>\n",
       "    </tr>\n",
       "  </tbody>\n",
       "</table>\n",
       "</div>"
      ],
      "text/plain": [
       "               Open          High           Low         Close    BTC Volume  \\\n",
       "count  23914.000000  23914.000000  23914.000000  23914.000000  23914.000000   \n",
       "mean   14431.769756  14440.320015  14422.617601  14431.756441     12.653255   \n",
       "std     1209.313067   1207.613212   1210.790526   1209.222487     20.403762   \n",
       "min    11876.980000  12000.010000  11876.980000  12000.010000      0.000442   \n",
       "25%    13586.892500  13595.000000  13579.000000  13586.890000      3.567942   \n",
       "50%    14244.995000  14250.000000  14240.000000  14244.965000      6.969842   \n",
       "75%    15069.912500  15075.000000  15059.997500  15069.960000     13.951879   \n",
       "max    17178.000000  17178.000000  17177.990000  17177.990000    959.084903   \n",
       "\n",
       "         USD Volume  Weighted Price  \n",
       "count  2.391400e+04    23914.000000  \n",
       "mean   1.812411e+05    14431.533254  \n",
       "std    2.847815e+05     1209.272000  \n",
       "min    6.699174e+00    11944.318791  \n",
       "25%    5.145330e+04    13586.475429  \n",
       "50%    1.005828e+05    14243.281143  \n",
       "75%    2.010341e+05    15069.443999  \n",
       "max    1.152334e+07    17177.995495  "
      ]
     },
     "execution_count": 23,
     "metadata": {},
     "output_type": "execute_result"
    }
   ],
   "source": [
    "## For further detailed report,  display summary statistics where close price is more than 12000.000000 to find out count and mean\n",
    "coinbase.loc[coinbase['Close'] > 12000.000000].describe()"
   ]
  },
  {
   "cell_type": "code",
   "execution_count": 44,
   "metadata": {},
   "outputs": [
    {
     "name": "stdout",
     "output_type": "stream",
     "text": [
      "Open              float64\n",
      "High              float64\n",
      "Low               float64\n",
      "Close             float64\n",
      "BTC Volume        float64\n",
      "USD Volume        float64\n",
      "Weighted Price    float64\n",
      "dtype: object\n"
     ]
    }
   ],
   "source": [
    "dataTypeSeries = bitstamp.dtypes\n",
    "print(dataTypeSeries)"
   ]
  },
  {
   "cell_type": "code",
   "execution_count": 24,
   "metadata": {},
   "outputs": [
    {
     "data": {
      "text/plain": [
       "<matplotlib.axes._subplots.AxesSubplot at 0x1c6626fcef0>"
      ]
     },
     "execution_count": 24,
     "metadata": {},
     "output_type": "execute_result"
    },
    {
     "data": {
      "image/png": "[encoded data removed]",
      "text/plain": [
       "<Figure size 1008x504 with 1 Axes>"
      ]
     },
     "metadata": {
      "needs_background": "light"
     },
     "output_type": "display_data"
    }
   ],
   "source": [
    "# Create a line plot for the bitstamp DataFrame for the full length of time in the dataset \n",
    "# Be sure that the figure size, title, and color are tailored to each visualization\n",
    "\n",
    "bitstamp['Close'].plot(figsize=(14,7), rot=90, color=\"red\", title = \"bitstamp close price\")"
   ]
  },
  {
   "cell_type": "code",
   "execution_count": 46,
   "metadata": {},
   "outputs": [
    {
     "data": {
      "text/plain": [
       "<matplotlib.axes._subplots.AxesSubplot at 0x1c66d85fcc0>"
      ]
     },
     "execution_count": 46,
     "metadata": {},
     "output_type": "execute_result"
    },
    {
     "data": {
      "image/png": "[encoded data removed]",
      "text/plain": [
       "<Figure size 1008x504 with 1 Axes>"
      ]
     },
     "metadata": {
      "needs_background": "light"
     },
     "output_type": "display_data"
    }
   ],
   "source": [
    "# Create a line plot for the coinbase DataFrame for the full length of time in the dataset \n",
    "# Be sure that the figure size, title, and color are tailored to each visualization\n",
    "coinbase['Close'].plot(figsize=(14,7), rot=90, color=\"blue\", title = \"coinbase close price\")"
   ]
  },
  {
   "cell_type": "code",
   "execution_count": 58,
   "metadata": {
    "scrolled": true
   },
   "outputs": [
    {
     "data": {
      "image/png": "[encoded data removed]",
      "text/plain": [
       "<Figure size 1008x360 with 1 Axes>"
      ]
     },
     "metadata": {
      "needs_background": "light"
     },
     "output_type": "display_data"
    }
   ],
   "source": [
    "# Overlay the visualizations for the bitstamp and coinbase DataFrames in one plot\n",
    "# The plot should visualize the prices over the full lenth of the dataset\n",
    "# Be sure to include the parameters: legend, figure size, title, and color and label\n",
    "plt.figure(figsize=(14,5))\n",
    "plt.plot(bitstamp['Close'], 'r--', label=\"bitstamp\")\n",
    "plt.plot(coinbase['Close'], 'b--', label=\"coinbase\")\n",
    "plt.legend()\n",
    "plt.xlabel(\"Timestamp\")\n",
    "plt.ylabel(\"$ close price\")\n",
    "plt.title(\"Bitstamp v.s. Coinbase Close Price \\n 1/1/18 - 4/1/18\")\n",
    "plt.show()"
   ]
  },
  {
   "cell_type": "code",
   "execution_count": 37,
   "metadata": {},
   "outputs": [],
   "source": [
    "# Using the loc and plot functions, create an overlay plot that visualizes \n",
    "# the price action of both DataFrames for a one month period early in the dataset\n",
    "# Be sure to include the parameters: legend, figure size, title, and color and label\n",
    "# YOUR CODE HERE"
   ]
  },
  {
   "cell_type": "code",
   "execution_count": null,
   "metadata": {},
   "outputs": [],
   "source": [
    "# Using the loc and plot functions, create an overlay plot that visualizes \n",
    "# the price action of both DataFrames for a one month period later in the dataset\n",
    "# Be sure to include the parameters: legend, figure size, title, and color and label \n",
    "# YOUR CODE HERE"
   ]
  },
  {
   "cell_type": "markdown",
   "metadata": {},
   "source": [
    "**Question** Based on the visualizations of the different time periods, has the degree of spread change as time progressed?\n",
    "\n",
    "**Answer** YOUR ANSWER HERE"
   ]
  },
  {
   "cell_type": "markdown",
   "metadata": {},
   "source": [
    "### Step 3: Focus Your Analysis on Specific Dates\n",
    "\n",
    "Focus your analysis on specific dates by completing the following steps:\n",
    "\n",
    "1. Select three dates to evaluate for arbitrage profitability. Choose one date that’s early in the dataset, one from the middle of the dataset, and one from the later part of the time period.\n",
    "\n",
    "2. For each of the three dates, generate the summary statistics and then create a box plot. This big-picture view is meant to help you gain a better understanding of the data before you perform your arbitrage calculations. As you compare the data, what conclusions can you draw?"
   ]
  },
  {
   "cell_type": "code",
   "execution_count": null,
   "metadata": {},
   "outputs": [],
   "source": [
    "# Create an overlay plot that visualizes the two dataframes over a period of one day early in the dataset. \n",
    "# Be sure that the plots include the parameters `legend`, `figsize`, `title`, `color` and `label` \n",
    "# YOUR CODE HERE"
   ]
  },
  {
   "cell_type": "code",
   "execution_count": null,
   "metadata": {
    "tags": []
   },
   "outputs": [],
   "source": [
    "# Using the early date that you have selected, calculate the arbitrage spread \n",
    "# by subtracting the bitstamp lower closing prices from the coinbase higher closing prices\n",
    "arbitrage_spread_early = # YOUR CODE HERE\n",
    "\n",
    "# Generate summary statistics for the early DataFrame\n",
    "# YOUR CODE HERE"
   ]
  },
  {
   "cell_type": "code",
   "execution_count": null,
   "metadata": {},
   "outputs": [],
   "source": [
    "# Visualize the arbitrage spread from early in the dataset in a box plot\n",
    "# YOUR CODE HERE"
   ]
  },
  {
   "cell_type": "code",
   "execution_count": null,
   "metadata": {},
   "outputs": [],
   "source": [
    "# Create an overlay plot that visualizes the two dataframes over a period of one day from the middle of the dataset. \n",
    "# Be sure that the plots include the parameters `legend`, `figsize`, `title`, `color` and `label` \n",
    "# YOUR CODE HERE"
   ]
  },
  {
   "cell_type": "code",
   "execution_count": null,
   "metadata": {},
   "outputs": [],
   "source": [
    "# Using the date in the middle that you have selected, calculate the arbitrage spread \n",
    "# by subtracting the bitstamp lower closing prices from the coinbase higher closing prices\n",
    "arbitrage_spread_middle = # YOUR CODE HERE\n",
    "\n",
    "# Generate summary statistics \n",
    "# YOUR CODE HERE"
   ]
  },
  {
   "cell_type": "code",
   "execution_count": null,
   "metadata": {},
   "outputs": [],
   "source": [
    "# Visualize the arbitrage spread from the middle of the dataset in a box plot\n",
    "# YOUR CODE HERE"
   ]
  },
  {
   "cell_type": "code",
   "execution_count": null,
   "metadata": {},
   "outputs": [],
   "source": [
    "# Create an overlay plot that visualizes the two dataframes over a period of one day from late in the dataset. \n",
    "# Be sure that the plots include the parameters `legend`, `figsize`, `title`, `color` and `label` \n",
    "# YOUR CODE HERE"
   ]
  },
  {
   "cell_type": "code",
   "execution_count": null,
   "metadata": {},
   "outputs": [],
   "source": [
    "# Using the date from the late that you have selected, calculate the arbitrage spread \n",
    "# by subtracting the bitstamp lower closing prices from the coinbase higher closing prices\n",
    "arbitrage_spread_late = # YOUR CODE HERE\n",
    "\n",
    "# Generate summary statistics for the late DataFrame\n",
    "# YOUR CODE HERE"
   ]
  },
  {
   "cell_type": "code",
   "execution_count": null,
   "metadata": {},
   "outputs": [],
   "source": [
    "# Visualize the arbitrage spread from late in the dataset in a box plot\n",
    "# YOUR CODE HERE"
   ]
  },
  {
   "cell_type": "markdown",
   "metadata": {},
   "source": [
    "### Step 4: Calculate the Arbitrage Profits\n",
    "\n",
    "Calculate the potential profits for each date that you selected in the previous section. Your goal is to determine whether arbitrage opportunities still exist in the Bitcoin market. Complete the following steps:\n",
    "\n",
    "1. For each of the three dates, measure the arbitrage spread between the two exchanges by subtracting the lower-priced exchange from the higher-priced one. Then use a conditional statement to generate the summary statistics for each arbitrage_spread DataFrame, where the spread is greater than zero.\n",
    "\n",
    "2. For each of the three dates, calculate the spread returns. To do so, divide the instances that have a positive arbitrage spread (that is, a spread greater than zero) by the price of Bitcoin from the exchange you’re buying on (that is, the lower-priced exchange). Review the resulting DataFrame.\n",
    "\n",
    "3. For each of the three dates, narrow down your trading opportunities even further. To do so, determine the number of times your trades with positive returns exceed the 1% minimum threshold that you need to cover your costs.\n",
    "\n",
    "4. Generate the summary statistics of your spread returns that are greater than 1%. How do the average returns compare among the three dates?\n",
    "\n",
    "5. For each of the three dates, calculate the potential profit, in dollars, per trade. To do so, multiply the spread returns that were greater than 1% by the cost of what was purchased. Make sure to drop any missing values from the resulting DataFrame.\n",
    "\n",
    "6. Generate the summary statistics, and plot the results for each of the three DataFrames.\n",
    "\n",
    "7. Calculate the potential arbitrage profits that you can make on each day. To do so, sum the elements in the profit_per_trade DataFrame.\n",
    "\n",
    "8. Using the `cumsum` function, plot the cumulative sum of each of the three DataFrames. Can you identify any patterns or trends in the profits across the three time periods?\n",
    "\n",
    "(NOTE: The starter code displays only one date. You'll want to do this analysis for two additional dates)."
   ]
  },
  {
   "cell_type": "markdown",
   "metadata": {},
   "source": [
    "#### 1. For each of the three dates, measure the arbitrage spread between the two exchanges by subtracting the lower-priced exchange from the higher-priced one. Then use a conditional statement to generate the summary statistics for each arbitrage_spread DataFrame, where the spread is greater than zero.\n",
    "\n",
    "*NOTE*: For illustration, only one of the three dates is shown in the starter code below."
   ]
  },
  {
   "cell_type": "code",
   "execution_count": null,
   "metadata": {},
   "outputs": [],
   "source": [
    "# For the date early in the dataset, measure the arbitrage spread between the two exchanges\n",
    "# by subtracting the lower-priced exchange from the higher-priced one\n",
    "arbitrage_spread_early = # YOUR CODE HERE\n",
    "\n",
    "# Use a conditional statement to generate the summary statistics for each arbitrage_spread DataFrame\n",
    "# YOUR CODE HERE"
   ]
  },
  {
   "cell_type": "markdown",
   "metadata": {},
   "source": [
    "#### 2. For each of the three dates, calculate the spread returns. To do so, divide the instances that have a positive arbitrage spread (that is, a spread greater than zero) by the price of Bitcoin from the exchange you’re buying on (that is, the lower-priced exchange). Review the resulting DataFrame."
   ]
  },
  {
   "cell_type": "code",
   "execution_count": null,
   "metadata": {},
   "outputs": [],
   "source": [
    "# For the date early in the dataset, calculate the spread returns by dividing the instances when the arbitrage spread is positive (> 0) \n",
    "# by the price of Bitcoin from the exchange you are buying on (the lower-priced exchange).\n",
    "spread_return_early= # YOUR CODE HERE\n",
    "\n",
    "# Review the spread return DataFrame\n",
    "# YOUR CODE HERE"
   ]
  },
  {
   "cell_type": "markdown",
   "metadata": {},
   "source": [
    "#### 3. For each of the three dates, narrow down your trading opportunities even further. To do so, determine the number of times your trades with positive returns exceed the 1% minimum threshold that you need to cover your costs."
   ]
  },
  {
   "cell_type": "code",
   "execution_count": null,
   "metadata": {},
   "outputs": [],
   "source": [
    "# For the date early in the dataset, determine the number of times your trades with positive returns \n",
    "# exceed the 1% minimum threshold (.01) that you need to cover your costs\n",
    "profitable_trades_early = # YOUR CODE HERE\n",
    "\n",
    "# Review the first five profitable trades\n",
    "# YOUR CODE HERE"
   ]
  },
  {
   "cell_type": "markdown",
   "metadata": {},
   "source": [
    "#### 4. Generate the summary statistics of your spread returns that are greater than 1%. How do the average returns compare among the three dates?"
   ]
  },
  {
   "cell_type": "code",
   "execution_count": null,
   "metadata": {},
   "outputs": [],
   "source": [
    "# For the date early in the dataset, generate the summary statistics for the profitable trades\n",
    "# or you trades where the spread returns are are greater than 1%\n",
    "# YOUR CODE HERE"
   ]
  },
  {
   "cell_type": "markdown",
   "metadata": {},
   "source": [
    "#### 5. For each of the three dates, calculate the potential profit, in dollars, per trade. To do so, multiply the spread returns that were greater than 1% by the cost of what was purchased. Make sure to drop any missing values from the resulting DataFrame."
   ]
  },
  {
   "cell_type": "code",
   "execution_count": null,
   "metadata": {},
   "outputs": [],
   "source": [
    "# For the date early in the dataset, calculate the potential profit per trade in dollars \n",
    "# Multiply the profitable trades by the cost of the Bitcoin that was purchased\n",
    "profit_early = # YOUR CODE HERE\n",
    "\n",
    "# Drop any missing values from the profit DataFrame\n",
    "profit_per_trade_early = # YOUR CODE HERE\n",
    "\n",
    "# View the early profit DataFrame\n",
    "# YOUR CODE HERE"
   ]
  },
  {
   "cell_type": "markdown",
   "metadata": {},
   "source": [
    "#### 6. Generate the summary statistics, and plot the results for each of the three DataFrames."
   ]
  },
  {
   "cell_type": "code",
   "execution_count": null,
   "metadata": {},
   "outputs": [],
   "source": [
    "# Generate the summary statistics for the early profit per trade DataFrame\n",
    "# YOUR CODE HERE"
   ]
  },
  {
   "cell_type": "code",
   "execution_count": null,
   "metadata": {},
   "outputs": [],
   "source": [
    "# Plot the results for the early profit per trade DataFrame\n",
    "# YOUR CODE HERE"
   ]
  },
  {
   "cell_type": "markdown",
   "metadata": {},
   "source": [
    "#### 7. Calculate the potential arbitrage profits that you can make on each day. To do so, sum the elements in the profit_per_trade DataFrame."
   ]
  },
  {
   "cell_type": "code",
   "execution_count": null,
   "metadata": {},
   "outputs": [],
   "source": [
    "# Calculate the sum of the potential profits for the early profit per trade DataFrame\n",
    "# YOUR CODE HERE"
   ]
  },
  {
   "cell_type": "markdown",
   "metadata": {},
   "source": [
    "#### 8. Using the `cumsum` function, plot the cumulative sum of each of the three DataFrames. Can you identify any patterns or trends in the profits across the three time periods?"
   ]
  },
  {
   "cell_type": "code",
   "execution_count": null,
   "metadata": {},
   "outputs": [],
   "source": [
    "# Use the cumsum function to calculate the cumulative profits over time for the early profit per trade DataFrame\n",
    "cumulative_profit_early = # YOUR CODE HERE"
   ]
  },
  {
   "cell_type": "code",
   "execution_count": null,
   "metadata": {},
   "outputs": [],
   "source": [
    "# Plot the cumulative sum of profits for the early profit per trade DataFrame\n",
    "# YOUR CODE HERE"
   ]
  },
  {
   "cell_type": "markdown",
   "metadata": {},
   "source": [
    "**Question:** After reviewing the profit information across each date from the different time periods, can you identify any patterns or trends?\n",
    "    \n",
    "**Answer:** YOUR ANSWER HERE"
   ]
  }
 ],
 "metadata": {
  "kernelspec": {
   "display_name": "Python [conda env:PythonData] *",
   "language": "python",
   "name": "conda-env-PythonData-py"
  },
  "language_info": {
   "codemirror_mode": {
    "name": "ipython",
    "version": 3
   },
   "file_extension": ".py",
   "mimetype": "text/x-python",
   "name": "python",
   "nbconvert_exporter": "python",
   "pygments_lexer": "ipython3",
   "version": "3.6.10"
  }
 },
 "nbformat": 4,
 "nbformat_minor": 4
}
